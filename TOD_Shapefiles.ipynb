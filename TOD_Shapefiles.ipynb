{
  "nbformat": 4,
  "nbformat_minor": 0,
  "metadata": {
    "colab": {
      "provenance": [],
      "authorship_tag": "ABX9TyOz7jEFV4A8h2WlJAakh/0e",
      "include_colab_link": true
    },
    "kernelspec": {
      "name": "python3",
      "display_name": "Python 3"
    },
    "language_info": {
      "name": "python"
    }
  },
  "cells": [
    {
      "cell_type": "markdown",
      "metadata": {
        "id": "view-in-github",
        "colab_type": "text"
      },
      "source": [
        "<a href=\"https://colab.research.google.com/github/DavidSchneider47/ALIrecommendation/blob/main/TOD_Shapefiles.ipynb\" target=\"_parent\"><img src=\"https://colab.research.google.com/assets/colab-badge.svg\" alt=\"Open In Colab\"/></a>"
      ]
    },
    {
      "cell_type": "code",
      "execution_count": 1,
      "metadata": {
        "id": "TgbsmhbKyA8j"
      },
      "outputs": [],
      "source": [
        "#import some libraries\n",
        "import pandas as pd\n",
        "import geopandas as gpd\n",
        "from shapely.geometry import Point\n",
        "from pyproj import CRS"
      ]
    },
    {
      "cell_type": "code",
      "source": [
        "# read in the file\n",
        "data = pd.read_csv('stations1.csv')"
      ],
      "metadata": {
        "id": "ybmWvW1cyKlH"
      },
      "execution_count": 5,
      "outputs": []
    },
    {
      "cell_type": "code",
      "source": [
        "#show the first few rows\n",
        "data.head()"
      ],
      "metadata": {
        "colab": {
          "base_uri": "https://localhost:8080/",
          "height": 372
        },
        "id": "_shz3UOU2v-L",
        "outputId": "883fd40b-24d3-4f75-f42e-21a72b167c38"
      },
      "execution_count": 6,
      "outputs": [
        {
          "output_type": "execute_result",
          "data": {
            "text/plain": [
              "         Lon       Lat                             Facility Name  \\\n",
              "0 -150.06188  62.18922                           Talkeetna Depot   \n",
              "1 -149.58490  61.10283    Anchorage Airport Bill Sheffield Depot   \n",
              "2 -149.53262  61.13180  Anchorage Historic Depot (all inclusive)   \n",
              "3 -149.26326  60.07287                              Seward Depot   \n",
              "4 -149.10306  60.56418                            Girdwood Depot   \n",
              "\n",
              "                     Facility Type Primary Mode Served  \\\n",
              "0  At-Grade Fixed Guideway Station                  AR   \n",
              "1  Elevated Fixed Guideway Station                  AR   \n",
              "2  At-Grade Fixed Guideway Station                  AR   \n",
              "3  At-Grade Fixed Guideway Station                  AR   \n",
              "4  At-Grade Fixed Guideway Station                  AR   \n",
              "\n",
              "                 Street Address       City State  \n",
              "0  Mile 13.7 Talkeetna Spur Rd.  Talkeetna    AK  \n",
              "1      4980 W Int'L Airport Rd.  Anchorage    AK  \n",
              "2           401 - 431 1St. Ave.  Anchorage    AK  \n",
              "3                 408 Port Ave.     Seward    AK  \n",
              "4                  Toadstool Dr   Girdwood    AK  "
            ],
            "text/html": [
              "\n",
              "\n",
              "  <div id=\"df-0a710be5-00c9-4a42-bd56-0d08d37a0860\">\n",
              "    <div class=\"colab-df-container\">\n",
              "      <div>\n",
              "<style scoped>\n",
              "    .dataframe tbody tr th:only-of-type {\n",
              "        vertical-align: middle;\n",
              "    }\n",
              "\n",
              "    .dataframe tbody tr th {\n",
              "        vertical-align: top;\n",
              "    }\n",
              "\n",
              "    .dataframe thead th {\n",
              "        text-align: right;\n",
              "    }\n",
              "</style>\n",
              "<table border=\"1\" class=\"dataframe\">\n",
              "  <thead>\n",
              "    <tr style=\"text-align: right;\">\n",
              "      <th></th>\n",
              "      <th>Lon</th>\n",
              "      <th>Lat</th>\n",
              "      <th>Facility Name</th>\n",
              "      <th>Facility Type</th>\n",
              "      <th>Primary Mode Served</th>\n",
              "      <th>Street Address</th>\n",
              "      <th>City</th>\n",
              "      <th>State</th>\n",
              "    </tr>\n",
              "  </thead>\n",
              "  <tbody>\n",
              "    <tr>\n",
              "      <th>0</th>\n",
              "      <td>-150.06188</td>\n",
              "      <td>62.18922</td>\n",
              "      <td>Talkeetna Depot</td>\n",
              "      <td>At-Grade Fixed Guideway Station</td>\n",
              "      <td>AR</td>\n",
              "      <td>Mile 13.7 Talkeetna Spur Rd.</td>\n",
              "      <td>Talkeetna</td>\n",
              "      <td>AK</td>\n",
              "    </tr>\n",
              "    <tr>\n",
              "      <th>1</th>\n",
              "      <td>-149.58490</td>\n",
              "      <td>61.10283</td>\n",
              "      <td>Anchorage Airport Bill Sheffield Depot</td>\n",
              "      <td>Elevated Fixed Guideway Station</td>\n",
              "      <td>AR</td>\n",
              "      <td>4980 W Int'L Airport Rd.</td>\n",
              "      <td>Anchorage</td>\n",
              "      <td>AK</td>\n",
              "    </tr>\n",
              "    <tr>\n",
              "      <th>2</th>\n",
              "      <td>-149.53262</td>\n",
              "      <td>61.13180</td>\n",
              "      <td>Anchorage Historic Depot (all inclusive)</td>\n",
              "      <td>At-Grade Fixed Guideway Station</td>\n",
              "      <td>AR</td>\n",
              "      <td>401 - 431 1St. Ave.</td>\n",
              "      <td>Anchorage</td>\n",
              "      <td>AK</td>\n",
              "    </tr>\n",
              "    <tr>\n",
              "      <th>3</th>\n",
              "      <td>-149.26326</td>\n",
              "      <td>60.07287</td>\n",
              "      <td>Seward Depot</td>\n",
              "      <td>At-Grade Fixed Guideway Station</td>\n",
              "      <td>AR</td>\n",
              "      <td>408 Port Ave.</td>\n",
              "      <td>Seward</td>\n",
              "      <td>AK</td>\n",
              "    </tr>\n",
              "    <tr>\n",
              "      <th>4</th>\n",
              "      <td>-149.10306</td>\n",
              "      <td>60.56418</td>\n",
              "      <td>Girdwood Depot</td>\n",
              "      <td>At-Grade Fixed Guideway Station</td>\n",
              "      <td>AR</td>\n",
              "      <td>Toadstool Dr</td>\n",
              "      <td>Girdwood</td>\n",
              "      <td>AK</td>\n",
              "    </tr>\n",
              "  </tbody>\n",
              "</table>\n",
              "</div>\n",
              "      <button class=\"colab-df-convert\" onclick=\"convertToInteractive('df-0a710be5-00c9-4a42-bd56-0d08d37a0860')\"\n",
              "              title=\"Convert this dataframe to an interactive table.\"\n",
              "              style=\"display:none;\">\n",
              "\n",
              "  <svg xmlns=\"http://www.w3.org/2000/svg\" height=\"24px\"viewBox=\"0 0 24 24\"\n",
              "       width=\"24px\">\n",
              "    <path d=\"M0 0h24v24H0V0z\" fill=\"none\"/>\n",
              "    <path d=\"M18.56 5.44l.94 2.06.94-2.06 2.06-.94-2.06-.94-.94-2.06-.94 2.06-2.06.94zm-11 1L8.5 8.5l.94-2.06 2.06-.94-2.06-.94L8.5 2.5l-.94 2.06-2.06.94zm10 10l.94 2.06.94-2.06 2.06-.94-2.06-.94-.94-2.06-.94 2.06-2.06.94z\"/><path d=\"M17.41 7.96l-1.37-1.37c-.4-.4-.92-.59-1.43-.59-.52 0-1.04.2-1.43.59L10.3 9.45l-7.72 7.72c-.78.78-.78 2.05 0 2.83L4 21.41c.39.39.9.59 1.41.59.51 0 1.02-.2 1.41-.59l7.78-7.78 2.81-2.81c.8-.78.8-2.07 0-2.86zM5.41 20L4 18.59l7.72-7.72 1.47 1.35L5.41 20z\"/>\n",
              "  </svg>\n",
              "      </button>\n",
              "\n",
              "\n",
              "\n",
              "    <div id=\"df-d9e684e0-c558-424a-8ca8-31639dd8750d\">\n",
              "      <button class=\"colab-df-quickchart\" onclick=\"quickchart('df-d9e684e0-c558-424a-8ca8-31639dd8750d')\"\n",
              "              title=\"Suggest charts.\"\n",
              "              style=\"display:none;\">\n",
              "\n",
              "<svg xmlns=\"http://www.w3.org/2000/svg\" height=\"24px\"viewBox=\"0 0 24 24\"\n",
              "     width=\"24px\">\n",
              "    <g>\n",
              "        <path d=\"M19 3H5c-1.1 0-2 .9-2 2v14c0 1.1.9 2 2 2h14c1.1 0 2-.9 2-2V5c0-1.1-.9-2-2-2zM9 17H7v-7h2v7zm4 0h-2V7h2v10zm4 0h-2v-4h2v4z\"/>\n",
              "    </g>\n",
              "</svg>\n",
              "      </button>\n",
              "    </div>\n",
              "\n",
              "<style>\n",
              "  .colab-df-quickchart {\n",
              "    background-color: #E8F0FE;\n",
              "    border: none;\n",
              "    border-radius: 50%;\n",
              "    cursor: pointer;\n",
              "    display: none;\n",
              "    fill: #1967D2;\n",
              "    height: 32px;\n",
              "    padding: 0 0 0 0;\n",
              "    width: 32px;\n",
              "  }\n",
              "\n",
              "  .colab-df-quickchart:hover {\n",
              "    background-color: #E2EBFA;\n",
              "    box-shadow: 0px 1px 2px rgba(60, 64, 67, 0.3), 0px 1px 3px 1px rgba(60, 64, 67, 0.15);\n",
              "    fill: #174EA6;\n",
              "  }\n",
              "\n",
              "  [theme=dark] .colab-df-quickchart {\n",
              "    background-color: #3B4455;\n",
              "    fill: #D2E3FC;\n",
              "  }\n",
              "\n",
              "  [theme=dark] .colab-df-quickchart:hover {\n",
              "    background-color: #434B5C;\n",
              "    box-shadow: 0px 1px 3px 1px rgba(0, 0, 0, 0.15);\n",
              "    filter: drop-shadow(0px 1px 2px rgba(0, 0, 0, 0.3));\n",
              "    fill: #FFFFFF;\n",
              "  }\n",
              "</style>\n",
              "\n",
              "    <script>\n",
              "      async function quickchart(key) {\n",
              "        const containerElement = document.querySelector('#' + key);\n",
              "        const charts = await google.colab.kernel.invokeFunction(\n",
              "            'suggestCharts', [key], {});\n",
              "      }\n",
              "    </script>\n",
              "\n",
              "      <script>\n",
              "\n",
              "function displayQuickchartButton(domScope) {\n",
              "  let quickchartButtonEl =\n",
              "    domScope.querySelector('#df-d9e684e0-c558-424a-8ca8-31639dd8750d button.colab-df-quickchart');\n",
              "  quickchartButtonEl.style.display =\n",
              "    google.colab.kernel.accessAllowed ? 'block' : 'none';\n",
              "}\n",
              "\n",
              "        displayQuickchartButton(document);\n",
              "      </script>\n",
              "      <style>\n",
              "    .colab-df-container {\n",
              "      display:flex;\n",
              "      flex-wrap:wrap;\n",
              "      gap: 12px;\n",
              "    }\n",
              "\n",
              "    .colab-df-convert {\n",
              "      background-color: #E8F0FE;\n",
              "      border: none;\n",
              "      border-radius: 50%;\n",
              "      cursor: pointer;\n",
              "      display: none;\n",
              "      fill: #1967D2;\n",
              "      height: 32px;\n",
              "      padding: 0 0 0 0;\n",
              "      width: 32px;\n",
              "    }\n",
              "\n",
              "    .colab-df-convert:hover {\n",
              "      background-color: #E2EBFA;\n",
              "      box-shadow: 0px 1px 2px rgba(60, 64, 67, 0.3), 0px 1px 3px 1px rgba(60, 64, 67, 0.15);\n",
              "      fill: #174EA6;\n",
              "    }\n",
              "\n",
              "    [theme=dark] .colab-df-convert {\n",
              "      background-color: #3B4455;\n",
              "      fill: #D2E3FC;\n",
              "    }\n",
              "\n",
              "    [theme=dark] .colab-df-convert:hover {\n",
              "      background-color: #434B5C;\n",
              "      box-shadow: 0px 1px 3px 1px rgba(0, 0, 0, 0.15);\n",
              "      filter: drop-shadow(0px 1px 2px rgba(0, 0, 0, 0.3));\n",
              "      fill: #FFFFFF;\n",
              "    }\n",
              "  </style>\n",
              "\n",
              "      <script>\n",
              "        const buttonEl =\n",
              "          document.querySelector('#df-0a710be5-00c9-4a42-bd56-0d08d37a0860 button.colab-df-convert');\n",
              "        buttonEl.style.display =\n",
              "          google.colab.kernel.accessAllowed ? 'block' : 'none';\n",
              "\n",
              "        async function convertToInteractive(key) {\n",
              "          const element = document.querySelector('#df-0a710be5-00c9-4a42-bd56-0d08d37a0860');\n",
              "          const dataTable =\n",
              "            await google.colab.kernel.invokeFunction('convertToInteractive',\n",
              "                                                     [key], {});\n",
              "          if (!dataTable) return;\n",
              "\n",
              "          const docLinkHtml = 'Like what you see? Visit the ' +\n",
              "            '<a target=\"_blank\" href=https://colab.research.google.com/notebooks/data_table.ipynb>data table notebook</a>'\n",
              "            + ' to learn more about interactive tables.';\n",
              "          element.innerHTML = '';\n",
              "          dataTable['output_type'] = 'display_data';\n",
              "          await google.colab.output.renderOutput(dataTable, element);\n",
              "          const docLink = document.createElement('div');\n",
              "          docLink.innerHTML = docLinkHtml;\n",
              "          element.appendChild(docLink);\n",
              "        }\n",
              "      </script>\n",
              "    </div>\n",
              "  </div>\n"
            ]
          },
          "metadata": {},
          "execution_count": 6
        }
      ]
    },
    {
      "cell_type": "code",
      "source": [
        "#identify and remove the null values\n",
        "num_null_values = data['Lon'].isnull().sum()\n",
        "num_null_values"
      ],
      "metadata": {
        "colab": {
          "base_uri": "https://localhost:8080/"
        },
        "id": "K3yuPa2g29qX",
        "outputId": "147cce9c-23c7-41d6-92c9-c848cdd7a361"
      },
      "execution_count": 10,
      "outputs": [
        {
          "output_type": "execute_result",
          "data": {
            "text/plain": [
              "233"
            ]
          },
          "metadata": {},
          "execution_count": 10
        }
      ]
    },
    {
      "cell_type": "code",
      "source": [
        "#drop the null values and update the original dataset\n",
        "data.dropna(subset=['Lon'], inplace=True)"
      ],
      "metadata": {
        "id": "dZ2k6TcZ3x3S"
      },
      "execution_count": 12,
      "outputs": []
    },
    {
      "cell_type": "code",
      "source": [
        "#identify duplicate lon/lat coordinates\n",
        "num_duplicates = data.duplicated(subset=['Lat']).sum()\n",
        "num_duplicates"
      ],
      "metadata": {
        "colab": {
          "base_uri": "https://localhost:8080/"
        },
        "id": "6HnKeDib3_Lb",
        "outputId": "c18352ff-54b3-40db-cfb1-7e5ccfee7839"
      },
      "execution_count": 15,
      "outputs": [
        {
          "output_type": "execute_result",
          "data": {
            "text/plain": [
              "14"
            ]
          },
          "metadata": {},
          "execution_count": 15
        }
      ]
    },
    {
      "cell_type": "code",
      "source": [
        "# Create a GeoDataFrame from your data\n",
        "geometry = [Point(xy) for xy in zip(data.Lon, data.Lat)]\n",
        "geo_df = gpd.GeoDataFrame(data, geometry=geometry)"
      ],
      "metadata": {
        "id": "7cLyifDP4xY-"
      },
      "execution_count": 33,
      "outputs": []
    },
    {
      "cell_type": "code",
      "source": [
        "# Define the CRS (coordinate reference system)\n",
        "# You need to define it because operations like buffer depend on the unit of measurement,\n",
        "# and lat/lon is often represented in degrees.\n",
        "geo_df.crs = CRS(\"EPSG:4326\")  # This is the CRS for latitude/longitude\n",
        "geo_df = geo_df.to_crs(\"EPSG:3857\")  # Converting to a CRS that uses meters as units (Web Mercator)"
      ],
      "metadata": {
        "id": "gtRR6CTt5GSc"
      },
      "execution_count": 34,
      "outputs": []
    },
    {
      "cell_type": "code",
      "source": [
        "# Now, create a buffer of 1/4 mile around each point.\n",
        "# Since EPSG:3857 is in meters and 1/4 mile is about 402.336 meters, we use that as the buffer distance.\n",
        "buffer = geo_df.buffer(402.336)\n"
      ],
      "metadata": {
        "id": "SPdOHKxq55jO"
      },
      "execution_count": 35,
      "outputs": []
    },
    {
      "cell_type": "code",
      "source": [
        "# The result, buffer, is a GeoSeries where each element is a Polygon representing the area within\n",
        "# a 1/4 mile of the corresponding station. You might want to add this as a column in your GeoDataFrame:\n",
        "\n",
        "geo_df['buffer'] = buffer"
      ],
      "metadata": {
        "id": "7WS9WtN36BA1"
      },
      "execution_count": 36,
      "outputs": []
    },
    {
      "cell_type": "code",
      "source": [
        "# Optionally, convert back to latitude/longitude for compatibility with other tools\n",
        "geo_df = geo_df.to_crs(\"EPSG:4326\")\n"
      ],
      "metadata": {
        "id": "S9_16HJ06Lhz"
      },
      "execution_count": 41,
      "outputs": []
    },
    {
      "cell_type": "code",
      "source": [
        "from google.colab import files\n",
        "files.download('stations_with_buffer_bounds.csv')"
      ],
      "metadata": {
        "colab": {
          "base_uri": "https://localhost:8080/",
          "height": 17
        },
        "id": "fGX51mRW9xQS",
        "outputId": "c9f7b8c9-ab00-4e5a-d4f1-3ee40e97bc73"
      },
      "execution_count": 30,
      "outputs": [
        {
          "output_type": "display_data",
          "data": {
            "text/plain": [
              "<IPython.core.display.Javascript object>"
            ],
            "application/javascript": [
              "\n",
              "    async function download(id, filename, size) {\n",
              "      if (!google.colab.kernel.accessAllowed) {\n",
              "        return;\n",
              "      }\n",
              "      const div = document.createElement('div');\n",
              "      const label = document.createElement('label');\n",
              "      label.textContent = `Downloading \"${filename}\": `;\n",
              "      div.appendChild(label);\n",
              "      const progress = document.createElement('progress');\n",
              "      progress.max = size;\n",
              "      div.appendChild(progress);\n",
              "      document.body.appendChild(div);\n",
              "\n",
              "      const buffers = [];\n",
              "      let downloaded = 0;\n",
              "\n",
              "      const channel = await google.colab.kernel.comms.open(id);\n",
              "      // Send a message to notify the kernel that we're ready.\n",
              "      channel.send({})\n",
              "\n",
              "      for await (const message of channel.messages) {\n",
              "        // Send a message to notify the kernel that we're ready.\n",
              "        channel.send({})\n",
              "        if (message.buffers) {\n",
              "          for (const buffer of message.buffers) {\n",
              "            buffers.push(buffer);\n",
              "            downloaded += buffer.byteLength;\n",
              "            progress.value = downloaded;\n",
              "          }\n",
              "        }\n",
              "      }\n",
              "      const blob = new Blob(buffers, {type: 'application/binary'});\n",
              "      const a = document.createElement('a');\n",
              "      a.href = window.URL.createObjectURL(blob);\n",
              "      a.download = filename;\n",
              "      div.appendChild(a);\n",
              "      a.click();\n",
              "      div.remove();\n",
              "    }\n",
              "  "
            ]
          },
          "metadata": {}
        },
        {
          "output_type": "display_data",
          "data": {
            "text/plain": [
              "<IPython.core.display.Javascript object>"
            ],
            "application/javascript": [
              "download(\"download_32511749-37f9-4c6f-89d9-21719ab1dbd9\", \"stations_with_buffer_bounds.csv\", 8427256)"
            ]
          },
          "metadata": {}
        }
      ]
    },
    {
      "cell_type": "code",
      "source": [
        "#Load your dataset\n",
        "# Assumed to be in the form of a CSV with columns 'lon' and 'lat'\n",
        "data = pd.read_csv('stations1.csv')\n",
        "\n",
        "# Ensure column names are not more than 10 characters long\n",
        "data.columns = [col[:10] for col in data.columns]\n",
        "\n",
        "# Create a GeoDataFrame from your data\n",
        "geometry = [Point(xy) for xy in zip(data.Lon, data.Lat)]\n",
        "geo_df = gpd.GeoDataFrame(data, geometry=geometry)\n",
        "\n",
        "#Define the CRS (coordinate reference system)\n",
        "# You need to define it because operations like buffer depend on the unit of measurement,\n",
        "# and lat/lon is often represented in degrees.\n",
        "geo_df.crs = CRS(\"EPSG:4326\")  # This is the CRS for latitude/longitude\n",
        "geo_df = geo_df.to_crs(\"EPSG:3857\")  # Converting to a CRS that uses meters as units (Web Mercator)\n",
        "\n",
        "# Now, create a buffer of 1/4 mile around each point.\n",
        "# Since EPSG:3857 is in meters and 1/4 mile is about 402.336 meters, we use that as the buffer distance.\n",
        "buffer = geo_df.buffer(402.336)\n",
        "\n",
        "# Replace 'geometry' with buffer\n",
        "geo_df.set_geometry(buffer, inplace=True)\n",
        "\n",
        "# Optionally, convert back to latitude/longitude for compatibility with other tools\n",
        "geo_df = geo_df.to_crs(\"EPSG:4326\")\n",
        "\n",
        "# Save the result to a new shapefile or GeoJSON\n",
        "geo_df.to_file('buffered_stations.shp')"
      ],
      "metadata": {
        "id": "mCnIjEpECOMm"
      },
      "execution_count": 45,
      "outputs": []
    },
    {
      "cell_type": "code",
      "source": [
        "from google.colab import files\n",
        "files.download('buffered_stations.shp')"
      ],
      "metadata": {
        "colab": {
          "base_uri": "https://localhost:8080/",
          "height": 17
        },
        "id": "QLMJnYjFCr2O",
        "outputId": "03e83171-cc52-46cd-f1a9-aa4b12ea9995"
      },
      "execution_count": 46,
      "outputs": [
        {
          "output_type": "display_data",
          "data": {
            "text/plain": [
              "<IPython.core.display.Javascript object>"
            ],
            "application/javascript": [
              "\n",
              "    async function download(id, filename, size) {\n",
              "      if (!google.colab.kernel.accessAllowed) {\n",
              "        return;\n",
              "      }\n",
              "      const div = document.createElement('div');\n",
              "      const label = document.createElement('label');\n",
              "      label.textContent = `Downloading \"${filename}\": `;\n",
              "      div.appendChild(label);\n",
              "      const progress = document.createElement('progress');\n",
              "      progress.max = size;\n",
              "      div.appendChild(progress);\n",
              "      document.body.appendChild(div);\n",
              "\n",
              "      const buffers = [];\n",
              "      let downloaded = 0;\n",
              "\n",
              "      const channel = await google.colab.kernel.comms.open(id);\n",
              "      // Send a message to notify the kernel that we're ready.\n",
              "      channel.send({})\n",
              "\n",
              "      for await (const message of channel.messages) {\n",
              "        // Send a message to notify the kernel that we're ready.\n",
              "        channel.send({})\n",
              "        if (message.buffers) {\n",
              "          for (const buffer of message.buffers) {\n",
              "            buffers.push(buffer);\n",
              "            downloaded += buffer.byteLength;\n",
              "            progress.value = downloaded;\n",
              "          }\n",
              "        }\n",
              "      }\n",
              "      const blob = new Blob(buffers, {type: 'application/binary'});\n",
              "      const a = document.createElement('a');\n",
              "      a.href = window.URL.createObjectURL(blob);\n",
              "      a.download = filename;\n",
              "      div.appendChild(a);\n",
              "      a.click();\n",
              "      div.remove();\n",
              "    }\n",
              "  "
            ]
          },
          "metadata": {}
        },
        {
          "output_type": "display_data",
          "data": {
            "text/plain": [
              "<IPython.core.display.Javascript object>"
            ],
            "application/javascript": [
              "download(\"download_b7454c27-ddf3-4361-8e51-0e546b530125\", \"buffered_stations.shp\", 3447624)"
            ]
          },
          "metadata": {}
        }
      ]
    }
  ]
}